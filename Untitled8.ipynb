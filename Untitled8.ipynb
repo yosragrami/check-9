{
 "cells": [
  {
   "cell_type": "code",
   "execution_count": null,
   "id": "228a150f-76c5-4ddb-ac3b-db960c58b148",
   "metadata": {},
   "outputs": [
    {
     "ename": "IndentationError",
     "evalue": "unexpected indent (Temp/ipykernel_5264/3188052394.py, line 23)",
     "output_type": "error",
     "traceback": [
      "\u001b[1;36m  File \u001b[1;32m\"C:\\Users\\Admin\\AppData\\Local\\Temp/ipykernel_5264/3188052394.py\"\u001b[1;36m, line \u001b[1;32m23\u001b[0m\n\u001b[1;33m    if random_num==1:\u001b[0m\n\u001b[1;37m    ^\u001b[0m\n\u001b[1;31mIndentationError\u001b[0m\u001b[1;31m:\u001b[0m unexpected indent\n"
     ]
    }
   ],
   "source": [
    "import random\n",
    "nom = input(\"veillez saisir votre nom:\")\n",
    "user_victroires=0\n",
    "pc_victoires=0\n",
    "nuls=0\n",
    "coup_pc=0\n",
    "while True:\n",
    "    print(nom,\":\", user_victroires,\"égalités:\",nuls,\"pc:\",pc_victoires)\n",
    "    coup_user=input(\"Entrer votre coup:(p)ierre,(f)euille,,(c)iseaux ou(q)uitter:\")\n",
    "    if coup_user==\"q\":\n",
    "        break\n",
    "    if coup_user!=\"p\" and coup_user!=\"f\" and coup_user!=\"c\":\n",
    "        continue \n",
    "        \n",
    "    if coup_user==\"p\":\n",
    "        print(\"PIERRE contre...\",end=\"\")\n",
    "    elif coup_user==\"f\":\n",
    "        print(\"FEUILLE contre...\",end=\"\")\n",
    "    else:\n",
    "        print(\"CISEAUX contre...\",end=\"\")\n",
    "    \n",
    "    random_num= random.randint(1,3)\n",
    "    if random_num==1:\n",
    "        coup_pc==\"p\"\n",
    "        print(\"PIERRE\")\n",
    "    elif random_num==2:\n",
    "        coup_pc==\"f\"\n",
    "        print(\"FEUILLE\")\n",
    "    else: \n",
    "        coup_pc==\"c\"\n",
    "        print(\"CISEAUX\")\n",
    "    if coup_user==coup_pc:\n",
    "        print(\"Partie est nulle!\")\n",
    "        nuls = nuls+1\n",
    "    elif coup_user==\"p\" and coup_pc==\"c\":\n",
    "        print(\"vous avez gangé!\")\n",
    "        user_victoires=user_victoires+1\n",
    "    elif coup_user==\"f\" and coup_pc==\"p\":\n",
    "        print(\"vous avez gangé!\")\n",
    "        user_victoires=user_victoires+1\n",
    "    elif coup_user==\"c\" and coup_pc==\"f\":\n",
    "        print(\"vous avez gangé!\")\n",
    "        user_victoires=user_victoires+1\n",
    "    \n",
    "    else:\n",
    "        print(\"vous avez perdu!\")\n",
    "        pc_victoires=pc_victoires+1\n",
    "        \n",
    "        \n",
    "\n",
    "    \n",
    "        \n",
    "        \n",
    "    \n",
    "        "
   ]
  },
  {
   "cell_type": "code",
   "execution_count": null,
   "id": "815a9ed5-0ca3-4d28-8c2b-b71481e6b4ff",
   "metadata": {},
   "outputs": [],
   "source": []
  }
 ],
 "metadata": {
  "kernelspec": {
   "display_name": "Python 3 (ipykernel)",
   "language": "python",
   "name": "python3"
  },
  "language_info": {
   "codemirror_mode": {
    "name": "ipython",
    "version": 3
   },
   "file_extension": ".py",
   "mimetype": "text/x-python",
   "name": "python",
   "nbconvert_exporter": "python",
   "pygments_lexer": "ipython3",
   "version": "3.9.7"
  }
 },
 "nbformat": 4,
 "nbformat_minor": 5
}
